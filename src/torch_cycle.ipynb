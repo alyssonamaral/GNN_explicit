{
 "cells": [
  {
   "cell_type": "code",
   "execution_count": 2,
   "id": "ae20eda8",
   "metadata": {},
   "outputs": [],
   "source": [
    "import torch\n",
    "import torch.nn as nn\n",
    "import torch.nn.functional as F\n",
    "import networkx as nx\n",
    "import numpy as np\n",
    "import matplotlib.pyplot as plt"
   ]
  },
  {
   "cell_type": "code",
   "execution_count": 4,
   "id": "6027d585",
   "metadata": {},
   "outputs": [
    {
     "name": "stdout",
     "output_type": "stream",
     "text": [
      "Epoch 1, Loss: 0.4274\n",
      "Epoch 11, Loss: 0.4141\n",
      "Epoch 21, Loss: 0.3931\n",
      "Epoch 31, Loss: 0.3908\n",
      "Epoch 41, Loss: 0.3904\n",
      "Epoch 51, Loss: 0.3905\n",
      "Epoch 61, Loss: 0.3901\n",
      "Epoch 71, Loss: 0.3898\n",
      "Epoch 81, Loss: 0.3901\n",
      "Epoch 91, Loss: 0.3901\n",
      "Epoch 100, Loss: 0.3895\n"
     ]
    }
   ],
   "source": [
    "def gerar_ciclos(n_exemplos, min_n=3, max_n=15):\n",
    "    grafos = []\n",
    "    for _ in range(n_exemplos):\n",
    "        n = np.random.randint(min_n, max_n + 1)\n",
    "        G = nx.cycle_graph(n)\n",
    "        grafos.append(G)\n",
    "    return grafos\n",
    "\n",
    "\n",
    "# --- GCN Layer ---\n",
    "class GCNLayer(nn.Module):\n",
    "    def __init__(self, in_dim, out_dim):\n",
    "        super().__init__()\n",
    "        self.linear = nn.Linear(in_dim, out_dim)\n",
    "\n",
    "    def forward(self, A_hat, X):\n",
    "        return self.linear(torch.matmul(A_hat, X))\n",
    "\n",
    "# --- VGAE ---\n",
    "class VGAE(nn.Module):\n",
    "    def __init__(self, in_dim, hidden_dim, latent_dim):\n",
    "        super().__init__()\n",
    "        self.gcn1 = GCNLayer(in_dim, hidden_dim)\n",
    "        self.gcn2_mu = GCNLayer(hidden_dim, latent_dim)\n",
    "        self.gcn2_logvar = GCNLayer(hidden_dim, latent_dim)\n",
    "\n",
    "        self.decoder_fc1 = nn.Linear(latent_dim * 2, latent_dim * 2)\n",
    "        self.decoder_fc2 = nn.Linear(latent_dim * 2, 1)\n",
    "\n",
    "    def encode(self, A_hat, X):\n",
    "        H = F.leaky_relu(self.gcn1(A_hat, X))\n",
    "        mu = self.gcn2_mu(A_hat, H)\n",
    "        logvar = self.gcn2_logvar(A_hat, H)\n",
    "        return mu, logvar\n",
    "\n",
    "    def reparameterize(self, mu, logvar):\n",
    "        std = torch.exp(0.5 * logvar)\n",
    "        eps = torch.randn_like(std)\n",
    "        return mu + eps * std\n",
    "\n",
    "    def decode(self, Z):\n",
    "        N = Z.size(0)\n",
    "        rows = []\n",
    "        for i in range(N):\n",
    "            for j in range(N):\n",
    "                z_ij = torch.cat([Z[i], Z[j]])\n",
    "                h = F.leaky_relu(self.decoder_fc1(z_ij))\n",
    "                out = torch.sigmoid(self.decoder_fc2(h))\n",
    "                rows.append(out)\n",
    "        return torch.stack(rows).view(N, N)\n",
    "\n",
    "    def forward(self, A_hat, X):\n",
    "        mu, logvar = self.encode(A_hat, X)\n",
    "        Z = self.reparameterize(mu, logvar)\n",
    "        A_pred = self.decode(Z)\n",
    "        return A_pred, mu, logvar\n",
    "\n",
    "# --- Treinamento ---\n",
    "def preparar_adjacencia(G):\n",
    "    A = nx.to_numpy_array(G)\n",
    "    np.fill_diagonal(A, 1)\n",
    "    D_inv_sqrt = np.diag(1.0 / np.sqrt(A.sum(axis=1) + 1e-10))\n",
    "    A_hat = D_inv_sqrt @ A @ D_inv_sqrt\n",
    "    return torch.tensor(A_hat, dtype=torch.float32), torch.tensor(A, dtype=torch.float32)\n",
    "\n",
    "grafos = gerar_ciclos(10000, 10, 25)\n",
    "model = VGAE(in_dim=1, hidden_dim=8, latent_dim=4)\n",
    "optimizer = torch.optim.Adam(model.parameters(), lr=0.01)\n",
    "\n",
    "epochs = 100\n",
    "for epoch in range(epochs):\n",
    "    total_loss = 0\n",
    "    for G in grafos:\n",
    "        A_hat, A = preparar_adjacencia(G)\n",
    "        N = A.shape[0]\n",
    "        X = torch.ones((N, 1))  # Feature constante: h = 1\n",
    "\n",
    "        A_pred, mu, logvar = model(A_hat, X)\n",
    "\n",
    "        recon_loss = F.binary_cross_entropy(A_pred, A)\n",
    "        kl = -0.5 * torch.mean(1 + logvar - mu.pow(2) - logvar.exp())\n",
    "        loss = recon_loss + kl\n",
    "\n",
    "        optimizer.zero_grad()\n",
    "        loss.backward()\n",
    "        optimizer.step()\n",
    "        total_loss += loss.item()\n",
    "\n",
    "    if epoch % 10 == 0 or epoch == epochs - 1:\n",
    "        print(f\"Epoch {epoch+1}, Loss: {total_loss / len(grafos):.4f}\")"
   ]
  },
  {
   "cell_type": "code",
   "execution_count": 5,
   "id": "496dfc0c",
   "metadata": {},
   "outputs": [],
   "source": [
    "# Supondo que latent_dim = 4 (como no modelo treinado)\n",
    "latent_dim = 4\n",
    "num_novos_grafos = 5  # Número de grafos a serem gerados\n",
    "num_nos = 10  # Número de nós em cada novo grafo (pode ser fixo ou variável)\n",
    "\n",
    "# Amostra vetores latentes de uma distribuição normal padrão\n",
    "Z_novos = torch.randn(num_nos, latent_dim)  # Shape: (num_nos, latent_dim)\n",
    "\n",
    "with torch.no_grad():  # Desativa cálculos de gradiente (não é treinamento)\n",
    "    A_pred = model.decode(Z_novos)  # Shape: (num_nos, num_nos)\n",
    "\n",
    "threshold = 0.5  \n",
    "A_binaria = (A_pred > threshold).float()  "
   ]
  },
  {
   "cell_type": "code",
   "execution_count": 6,
   "id": "c1a51b79",
   "metadata": {},
   "outputs": [],
   "source": [
    "# Converte para numpy e remove autoloops (opcional)\n",
    "A_numpy = A_binaria.numpy()\n",
    "np.fill_diagonal(A_numpy, 0)  \n",
    "\n",
    "# Cria o grafo\n",
    "G_novo = nx.from_numpy_array(A_numpy)"
   ]
  },
  {
   "cell_type": "code",
   "execution_count": 7,
   "id": "cb2dcb93",
   "metadata": {},
   "outputs": [
    {
     "data": {
      "image/png": "[encoded data removed]",
      "text/plain": [
       "<Figure size 640x480 with 1 Axes>"
      ]
     },
     "metadata": {},
     "output_type": "display_data"
    }
   ],
   "source": [
    "nx.draw(G_novo, with_labels=True)\n",
    "plt.show()"
   ]
  },
  {
   "cell_type": "code",
   "execution_count": 8,
   "id": "c374146b",
   "metadata": {},
   "outputs": [],
   "source": [
    "torch.save(model.state_dict(), \"cycle_torch.pth\")"
   ]
  }
 ],
 "metadata": {
  "kernelspec": {
   "display_name": "env",
   "language": "python",
   "name": "python3"
  },
  "language_info": {
   "codemirror_mode": {
    "name": "ipython",
    "version": 3
   },
   "file_extension": ".py",
   "mimetype": "text/x-python",
   "name": "python",
   "nbconvert_exporter": "python",
   "pygments_lexer": "ipython3",
   "version": "3.12.6"
  }
 },
 "nbformat": 4,
 "nbformat_minor": 5
}
