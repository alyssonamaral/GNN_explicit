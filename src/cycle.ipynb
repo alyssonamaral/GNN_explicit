{
 "cells": [
  {
   "cell_type": "code",
   "execution_count": 1,
   "id": "bc5e46bf",
   "metadata": {},
   "outputs": [],
   "source": [
    "import networkx as nx\n",
    "import random\n",
    "from collections import defaultdict\n",
    "import matplotlib.pyplot as plt\n",
    "import numpy as np\n",
    "from itertools import product"
   ]
  },
  {
   "cell_type": "code",
   "execution_count": 3,
   "id": "75f2057a",
   "metadata": {},
   "outputs": [],
   "source": [
    "def gerar_ciclos_impares(n_exemplos, min_n=3, max_n=15):\n",
    "    vistos = set()\n",
    "    contador_por_tamanho = defaultdict(int)\n",
    "\n",
    "    grafos = []\n",
    "    for _ in range(n_exemplos):\n",
    "        n = random.choice([i for i in range(min_n, max_n + 1) if i % 2 == 1])\n",
    "        G = nx.cycle_graph(n)\n",
    "        grafos.append(G)\n",
    "        contador_por_tamanho[n] += 1\n",
    "\n",
    "    print(f\"Total de grafos gerados: {len(grafos)}\")\n",
    "    print(f\"Total de grafos únicos: {len(vistos)}\")\n",
    "    print(\"Distribuição por número de nós (apenas ímpares):\")\n",
    "    for n in sorted(contador_por_tamanho):\n",
    "        print(f\"  - {n} nós: {contador_por_tamanho[n]} grafos\")\n",
    "\n",
    "    return grafos"
   ]
  },
  {
   "cell_type": "code",
   "execution_count": 4,
   "id": "53848914",
   "metadata": {},
   "outputs": [
    {
     "name": "stdout",
     "output_type": "stream",
     "text": [
      "Total de grafos gerados: 10000\n",
      "Total de grafos únicos: 0\n",
      "Distribuição por número de nós (apenas ímpares):\n",
      "  - 11 nós: 2099 grafos\n",
      "  - 13 nós: 2028 grafos\n",
      "  - 15 nós: 1945 grafos\n",
      "  - 17 nós: 2015 grafos\n",
      "  - 19 nós: 1913 grafos\n"
     ]
    }
   ],
   "source": [
    "f_grafos = gerar_ciclos_impares(10000, 10, 20)"
   ]
  },
  {
   "cell_type": "code",
   "execution_count": 4,
   "id": "318bb06f",
   "metadata": {},
   "outputs": [],
   "source": [
    "# def contar_3paths_por_no(G):\n",
    "#     count_3paths = {node: 0 for node in G.nodes()}\n",
    "#     # Para cada aresta (u,v), buscamos caminhos de comprimento 3 que a contenham\n",
    "#     for u in G.nodes():\n",
    "#         for v in G.neighbors(u):\n",
    "#             for w in G.neighbors(v):\n",
    "#                 if w == u:\n",
    "#                     continue\n",
    "#                 for x in G.neighbors(w):\n",
    "#                     if x in {u,v,w}:\n",
    "#                         continue\n",
    "#                     # Temos um caminho u-v-w-x (4 nós diferentes, 3 arestas)\n",
    "#                     # Incrementa contagem para cada nó do caminho\n",
    "#                     for node in [u, v, w, x]:\n",
    "#                         count_3paths[node] += 1\n",
    "#     # Cada caminho é contado múltiplas vezes (4 vezes, uma para cada nó)\n",
    "#     for node in count_3paths:\n",
    "#         count_3paths[node] //= 4\n",
    "#     return count_3paths\n",
    "\n",
    "# def adicionar_features_completas(lista_grafos):\n",
    "#     for G in lista_grafos:\n",
    "#         eigen_centrality = nx.eigenvector_centrality(G)\n",
    "#         degrees = dict(G.degree())\n",
    "#         media_graus = np.mean(list(degrees.values()))\n",
    "#         count_3paths = contar_3paths_por_no(G)\n",
    "        \n",
    "#         for node in G.nodes():\n",
    "#             G.nodes[node]['eigenvector_centrality'] = eigen_centrality[node]\n",
    "#             G.nodes[node]['degree'] = degrees[node]\n",
    "#             G.nodes[node]['mean_degree'] = media_graus\n",
    "#             G.nodes[node]['3paths'] = count_3paths[node]\n",
    "\n",
    "#             # Criação do vetor de features\n",
    "#             feature_vec = np.array([\n",
    "#                 eigen_centrality[node],\n",
    "#                 degrees[node],\n",
    "#                 media_graus,\n",
    "#                 count_3paths[node]\n",
    "#             ], dtype=float)\n",
    "\n",
    "#             G.nodes[node]['feature'] = feature_vec\n",
    "#     return lista_grafos\n"
   ]
  },
  {
   "cell_type": "code",
   "execution_count": 5,
   "id": "1d0436fc",
   "metadata": {},
   "outputs": [],
   "source": [
    "#f_grafos = adicionar_features_completas(grafos)"
   ]
  },
  {
   "cell_type": "code",
   "execution_count": 6,
   "id": "375ded5f",
   "metadata": {},
   "outputs": [],
   "source": [
    "# grafo_5_nos = None\n",
    "# for G in f_grafos:\n",
    "#     if G.number_of_nodes() == 5:\n",
    "#         grafo_5_nos = G\n",
    "#         break\n",
    "\n",
    "# if grafo_5_nos is not None:\n",
    "#     print(\"Atributos dos nós do grafo com 5 nós:\")\n",
    "#     for node, attrs in grafo_5_nos.nodes(data=True):\n",
    "#         print(f\"Nó {node}: {attrs}\")\n",
    "# else:\n",
    "#     print(\"Não foi encontrado grafo com 5 nós na lista.\")"
   ]
  },
  {
   "cell_type": "code",
   "execution_count": 5,
   "id": "2fb91834",
   "metadata": {},
   "outputs": [],
   "source": [
    "# --- Funções auxiliares ---\n",
    "\n",
    "# def relu(x):\n",
    "#     return np.maximum(0, x)\n",
    "\n",
    "# def relu_deriv(x):\n",
    "#     return (x > 0).astype(float)\n",
    "\n",
    "#Usando a função ReLU com um pequeno coeficiente alpha para evitar zeros\n",
    "def relu(x, alpha=0.01):\n",
    "    return np.where(x > 0, x, alpha * x) \n",
    "\n",
    "def relu_deriv(x, alpha=0.01):\n",
    "    return np.where(x > 0, 1.0, alpha)\n",
    "\n",
    "def sigmoid(x):\n",
    "    return 1 / (1 + np.exp(-x))\n",
    "\n",
    "def sigmoid_deriv(x):\n",
    "    s = sigmoid(x)\n",
    "    return s * (1 - s)"
   ]
  },
  {
   "cell_type": "code",
   "execution_count": 6,
   "id": "6214ce9d",
   "metadata": {},
   "outputs": [],
   "source": [
    "# --- Inicialização ---\n",
    "np.random.seed(42)\n",
    "feature_dim = 1\n",
    "latent_dim = 2\n",
    "\n",
    "W_mu = np.random.randn(feature_dim, latent_dim) * 0.1\n",
    "W_logvar = np.random.randn(feature_dim, latent_dim) * 0.1\n",
    "W_dec1 = np.random.randn(latent_dim*2, latent_dim*2) * 0.1\n",
    "b_dec1 = np.zeros(latent_dim*2)\n",
    "W_dec2 = np.random.randn(latent_dim*2, 1) * 0.1\n",
    "b_dec2 = np.zeros(1)\n",
    "\n",
    "lr = 0.1\n",
    "epochs = 100"
   ]
  },
  {
   "cell_type": "code",
   "execution_count": 7,
   "id": "9a866ae6",
   "metadata": {},
   "outputs": [],
   "source": [
    "# --- Função auxiliar ---\n",
    "def preparar_matriz_adjacencia_e_features(G):\n",
    "    A = nx.to_numpy_array(G, dtype=float)\n",
    "    np.fill_diagonal(A, 1)\n",
    "    D_inv_sqrt = np.diag(1.0 / np.sqrt(A.sum(axis=1) + 1e-10))\n",
    "    A_hat = D_inv_sqrt @ A @ D_inv_sqrt\n",
    "    H0 = np.ones((G.number_of_nodes(), 1))  # features constantes = 1\n",
    "    return A_hat, A, H0"
   ]
  },
  {
   "cell_type": "code",
   "execution_count": 8,
   "id": "f25f05fc",
   "metadata": {},
   "outputs": [
    {
     "name": "stderr",
     "output_type": "stream",
     "text": [
      "/var/folders/sb/p0pt20h1545bjmrdc9_kmffw0000gn/T/ipykernel_42133/2099750470.py:23: DeprecationWarning: Conversion of an array with ndim > 0 to a scalar is deprecated, and will error in future. Ensure you extract a single element from your array before performing this operation. (Deprecated NumPy 1.25.)\n",
      "  A_pred[i, j] = out\n"
     ]
    },
    {
     "name": "stdout",
     "output_type": "stream",
     "text": [
      "Epoch   1 | Avg Loss: 0.48458\n",
      "Epoch  10 | Avg Loss: 0.45935\n",
      "Epoch  20 | Avg Loss: 0.46033\n",
      "Epoch  30 | Avg Loss: 0.46069\n",
      "Epoch  40 | Avg Loss: 0.46116\n",
      "Epoch  50 | Avg Loss: 0.46057\n",
      "Epoch  60 | Avg Loss: 0.46039\n",
      "Epoch  70 | Avg Loss: 0.46021\n",
      "Epoch  80 | Avg Loss: 0.46061\n",
      "Epoch  90 | Avg Loss: 0.46024\n",
      "Epoch 100 | Avg Loss: 0.46042\n"
     ]
    }
   ],
   "source": [
    "# --- Treinamento ---\n",
    "for epoch in range(epochs):\n",
    "    total_loss = 0\n",
    "    for G in f_grafos:\n",
    "        A_hat, A, H0 = preparar_matriz_adjacencia_e_features(G)\n",
    "        N = A.shape[0]\n",
    "\n",
    "        # --- Encoder ---\n",
    "        M = A_hat @ H0\n",
    "        mu = M @ W_mu\n",
    "        logvar = M @ W_logvar\n",
    "        eps = np.random.randn(*mu.shape)\n",
    "        std = np.exp(0.5 * logvar)\n",
    "        Z = mu + std * eps\n",
    "\n",
    "        # --- Decoder ---\n",
    "        A_pred = np.zeros_like(A)\n",
    "        cache = {}\n",
    "        for i, j in product(range(N), repeat=2):\n",
    "            z_ij = np.concatenate([Z[i], Z[j]])\n",
    "            h1 = relu(z_ij @ W_dec1 + b_dec1)\n",
    "            out = sigmoid(h1 @ W_dec2 + b_dec2)\n",
    "            A_pred[i, j] = out\n",
    "            cache[(i, j)] = (z_ij, h1, out)\n",
    "\n",
    "        # --- Perda ---\n",
    "        bce = -np.mean(A * np.log(A_pred + 1e-10) + (1 - A) * np.log(1 - A_pred + 1e-10))\n",
    "        kl = -0.5 * np.mean(1 + logvar - mu**2 - np.exp(logvar))\n",
    "        loss = bce + kl\n",
    "        total_loss += loss\n",
    "\n",
    "        # --- Backprop decoder ---\n",
    "        dW_dec1 = np.zeros_like(W_dec1)\n",
    "        db_dec1 = np.zeros_like(b_dec1)\n",
    "        dW_dec2 = np.zeros_like(W_dec2)\n",
    "        db_dec2 = np.zeros_like(b_dec2)\n",
    "        dZ = np.zeros_like(Z)\n",
    "\n",
    "        for i, j in product(range(N), repeat=2):\n",
    "            z_ij, h1, out = cache[(i, j)]\n",
    "            dL_dout = - (A[i, j] / (out + 1e-10) - (1 - A[i, j]) / (1 - out + 1e-10)) / (N * N)\n",
    "            delta2 = dL_dout * sigmoid_deriv(h1 @ W_dec2 + b_dec2)\n",
    "            dW_dec2 += np.outer(h1, delta2)\n",
    "            db_dec2 += delta2\n",
    "\n",
    "            delta1 = (delta2 @ W_dec2.T) * relu_deriv(z_ij @ W_dec1 + b_dec1)\n",
    "            dW_dec1 += np.outer(z_ij, delta1)\n",
    "            db_dec1 += delta1\n",
    "\n",
    "            dz_ij = delta1 @ W_dec1.T\n",
    "            dZ[i] += dz_ij[:latent_dim]\n",
    "            dZ[j] += dz_ij[latent_dim:]\n",
    "\n",
    "        # --- Backprop encoder ---\n",
    "        dZ_dmu = 1\n",
    "        dZ_dlogvar = 0.5 * std * eps\n",
    "        dL_dmu = dZ * dZ_dmu + mu / mu.size\n",
    "        dL_dlogvar = dZ * dZ_dlogvar + 0.5 * (np.exp(logvar) - 1) / logvar.size\n",
    "        dW_mu = (A_hat @ H0).T @ dL_dmu\n",
    "        dW_logvar = (A_hat @ H0).T @ dL_dlogvar\n",
    "\n",
    "        # --- Atualização pesos ---\n",
    "        W_mu -= lr * dW_mu\n",
    "        W_logvar -= lr * dW_logvar\n",
    "        W_dec1 -= lr * dW_dec1\n",
    "        b_dec1 -= lr * db_dec1\n",
    "        W_dec2 -= lr * dW_dec2\n",
    "        b_dec2 -= lr * db_dec2\n",
    "\n",
    "    if (epoch + 1) % 10 == 0 or epoch == 0:\n",
    "        print(f\"Epoch {epoch+1:3d} | Avg Loss: {total_loss / len(f_grafos):.5f}\")"
   ]
  },
  {
   "cell_type": "code",
   "execution_count": 10,
   "id": "5c72cc66",
   "metadata": {},
   "outputs": [
    {
     "name": "stdout",
     "output_type": "stream",
     "text": [
      "[[-0.0084435   0.00318308]] [[-0.00537446  0.00178049]] [[ 4.44575831  3.73044747  4.46172501  4.10390216]\n",
      " [ 1.98805538  2.1213959   1.80975836  2.50588891]\n",
      " [-3.74195292 -4.46262701 -4.461259   -4.10241519]\n",
      " [-2.11325437 -1.98701027 -1.80706827 -2.50341504]] [ 0.10899008  0.04190335 -0.00455109 -0.00465533] [[ 3.79755793]\n",
      " [ 3.79949837]\n",
      " [-3.66974432]\n",
      " [-3.66194143]] [-1.62207982]\n"
     ]
    }
   ],
   "source": [
    "print (W_mu, W_logvar, W_dec1, b_dec1, W_dec2, b_dec2)"
   ]
  },
  {
   "cell_type": "code",
   "execution_count": 11,
   "id": "a9a6bb22",
   "metadata": {},
   "outputs": [
    {
     "name": "stderr",
     "output_type": "stream",
     "text": [
      "/var/folders/sb/p0pt20h1545bjmrdc9_kmffw0000gn/T/ipykernel_42133/462284719.py:20: DeprecationWarning: Conversion of an array with ndim > 0 to a scalar is deprecated, and will error in future. Ensure you extract a single element from your array before performing this operation. (Deprecated NumPy 1.25.)\n",
      "  A_pred[i, j] = out\n"
     ]
    },
    {
     "data": {
      "image/png": "[encoded data removed]",
      "text/plain": [
       "<Figure size 640x480 with 1 Axes>"
      ]
     },
     "metadata": {},
     "output_type": "display_data"
    }
   ],
   "source": [
    "import numpy as np\n",
    "import networkx as nx\n",
    "from itertools import product\n",
    "from collections import defaultdict\n",
    "import random\n",
    "\n",
    "# -- (Mantenha o código do treino como antes) --\n",
    "\n",
    "# Função para gerar um novo grafo amostrado\n",
    "def gerar_novo_grafo(num_nos):\n",
    "    # Amostra Z ~ N(0,1)\n",
    "    Z = np.random.randn(num_nos, latent_dim)\n",
    "\n",
    "    # Decoder para gerar a matriz de adjacência predita\n",
    "    A_pred = np.zeros((num_nos, num_nos))\n",
    "    for i, j in product(range(num_nos), repeat=2):\n",
    "        z_ij = np.concatenate([Z[i], Z[j]])\n",
    "        h1 = relu(z_ij @ W_dec1 + b_dec1)\n",
    "        out = sigmoid(h1 @ W_dec2 + b_dec2)\n",
    "        A_pred[i, j] = out\n",
    "\n",
    "    # Binarizar matriz para criar grafo (threshold 0.5)\n",
    "    A_bin = (A_pred > 0.5).astype(float)\n",
    "\n",
    "    # Garantir matriz simétrica para grafo não-direcionado\n",
    "    A_bin = np.maximum(A_bin, A_bin.T)\n",
    "\n",
    "    # Criar grafo NetworkX\n",
    "    G_novo = nx.from_numpy_array(A_bin)\n",
    "\n",
    "    return G_novo\n",
    "\n",
    "# Exemplo de uso após treinamento:\n",
    "novo_grafo = gerar_novo_grafo(7)  # gera grafo com 7 nós\n",
    "\n",
    "# Plot para visualizar\n",
    "import matplotlib.pyplot as plt\n",
    "nx.draw_circular(novo_grafo, with_labels=True)\n",
    "plt.show()\n"
   ]
  },
  {
   "cell_type": "code",
   "execution_count": 12,
   "id": "3b90ac8b",
   "metadata": {},
   "outputs": [
    {
     "name": "stderr",
     "output_type": "stream",
     "text": [
      "/var/folders/sb/p0pt20h1545bjmrdc9_kmffw0000gn/T/ipykernel_42133/462284719.py:20: DeprecationWarning: Conversion of an array with ndim > 0 to a scalar is deprecated, and will error in future. Ensure you extract a single element from your array before performing this operation. (Deprecated NumPy 1.25.)\n",
      "  A_pred[i, j] = out\n"
     ]
    },
    {
     "data": {
      "image/png": "[encoded data removed]",
      "text/plain": [
       "<Figure size 640x480 with 1 Axes>"
      ]
     },
     "metadata": {},
     "output_type": "display_data"
    }
   ],
   "source": [
    "# Exemplo de uso após treinamento:\n",
    "novo_grafo = gerar_novo_grafo(5)  # gera grafo com 7 nós\n",
    "\n",
    "# Plot para visualizar\n",
    "import matplotlib.pyplot as plt\n",
    "nx.draw_circular(novo_grafo, with_labels=True)\n",
    "plt.show()"
   ]
  }
 ],
 "metadata": {
  "kernelspec": {
   "display_name": "env",
   "language": "python",
   "name": "python3"
  },
  "language_info": {
   "codemirror_mode": {
    "name": "ipython",
    "version": 3
   },
   "file_extension": ".py",
   "mimetype": "text/x-python",
   "name": "python",
   "nbconvert_exporter": "python",
   "pygments_lexer": "ipython3",
   "version": "3.12.6"
  }
 },
 "nbformat": 4,
 "nbformat_minor": 5
}
